{
 "cells": [
  {
   "cell_type": "code",
   "execution_count": 1,
   "id": "b4128b2e-7faa-44ef-81a4-17f49c644ec8",
   "metadata": {},
   "outputs": [],
   "source": [
    "import numpy as np\n",
    "import pandas as pd #add\n",
    "import matplotlib.pyplot as plt\n",
    "import json\n"
   ]
  },
  {
   "cell_type": "code",
   "execution_count": 55,
   "id": "d1664662-3ed0-45e5-980b-e55b0f972b35",
   "metadata": {},
   "outputs": [
    {
     "data": {
      "text/html": [
       "<div>\n",
       "<style scoped>\n",
       "    .dataframe tbody tr th:only-of-type {\n",
       "        vertical-align: middle;\n",
       "    }\n",
       "\n",
       "    .dataframe tbody tr th {\n",
       "        vertical-align: top;\n",
       "    }\n",
       "\n",
       "    .dataframe thead th {\n",
       "        text-align: right;\n",
       "    }\n",
       "</style>\n",
       "<table border=\"1\" class=\"dataframe\">\n",
       "  <thead>\n",
       "    <tr style=\"text-align: right;\">\n",
       "      <th></th>\n",
       "      <th>name</th>\n",
       "      <th>gt_corners</th>\n",
       "      <th>rb_corners</th>\n",
       "      <th>mean</th>\n",
       "      <th>max</th>\n",
       "      <th>min</th>\n",
       "      <th>floor_mean</th>\n",
       "      <th>floor_max</th>\n",
       "      <th>floor_min</th>\n",
       "      <th>ceiling_mean</th>\n",
       "      <th>ceiling_max</th>\n",
       "      <th>ceiling_min</th>\n",
       "    </tr>\n",
       "  </thead>\n",
       "  <tbody>\n",
       "    <tr>\n",
       "      <th>0</th>\n",
       "      <td>Schlafzimmer</td>\n",
       "      <td>4</td>\n",
       "      <td>4</td>\n",
       "      <td>3.956313</td>\n",
       "      <td>8.562939</td>\n",
       "      <td>0.274574</td>\n",
       "      <td>3.987864</td>\n",
       "      <td>8.562939</td>\n",
       "      <td>0.274574</td>\n",
       "      <td>3.924762</td>\n",
       "      <td>8.501885</td>\n",
       "      <td>0.331494</td>\n",
       "    </tr>\n",
       "    <tr>\n",
       "      <th>1</th>\n",
       "      <td>Küche</td>\n",
       "      <td>4</td>\n",
       "      <td>4</td>\n",
       "      <td>23.019122</td>\n",
       "      <td>52.605437</td>\n",
       "      <td>0.724299</td>\n",
       "      <td>1.253103</td>\n",
       "      <td>1.897612</td>\n",
       "      <td>0.724299</td>\n",
       "      <td>44.785141</td>\n",
       "      <td>52.605437</td>\n",
       "      <td>36.880814</td>\n",
       "    </tr>\n",
       "    <tr>\n",
       "      <th>2</th>\n",
       "      <td>Bathroom</td>\n",
       "      <td>4</td>\n",
       "      <td>4</td>\n",
       "      <td>1.013833</td>\n",
       "      <td>1.950322</td>\n",
       "      <td>0.301673</td>\n",
       "      <td>0.659138</td>\n",
       "      <td>1.318714</td>\n",
       "      <td>0.301673</td>\n",
       "      <td>1.368528</td>\n",
       "      <td>1.950322</td>\n",
       "      <td>0.878106</td>\n",
       "    </tr>\n",
       "    <tr>\n",
       "      <th>3</th>\n",
       "      <td>Lounge/Diner</td>\n",
       "      <td>8</td>\n",
       "      <td>8</td>\n",
       "      <td>3.832620</td>\n",
       "      <td>18.236935</td>\n",
       "      <td>0.173307</td>\n",
       "      <td>3.600083</td>\n",
       "      <td>15.041431</td>\n",
       "      <td>0.173307</td>\n",
       "      <td>4.065157</td>\n",
       "      <td>18.236935</td>\n",
       "      <td>0.253457</td>\n",
       "    </tr>\n",
       "    <tr>\n",
       "      <th>4</th>\n",
       "      <td>Essbereich</td>\n",
       "      <td>4</td>\n",
       "      <td>4</td>\n",
       "      <td>8.017758</td>\n",
       "      <td>15.642853</td>\n",
       "      <td>0.762948</td>\n",
       "      <td>7.819446</td>\n",
       "      <td>15.399635</td>\n",
       "      <td>0.762948</td>\n",
       "      <td>8.216069</td>\n",
       "      <td>15.642853</td>\n",
       "      <td>0.909029</td>\n",
       "    </tr>\n",
       "  </tbody>\n",
       "</table>\n",
       "</div>"
      ],
      "text/plain": [
       "           name  gt_corners  rb_corners       mean        max       min  \\\n",
       "0  Schlafzimmer           4           4   3.956313   8.562939  0.274574   \n",
       "1         Küche           4           4  23.019122  52.605437  0.724299   \n",
       "2      Bathroom           4           4   1.013833   1.950322  0.301673   \n",
       "3  Lounge/Diner           8           8   3.832620  18.236935  0.173307   \n",
       "4    Essbereich           4           4   8.017758  15.642853  0.762948   \n",
       "\n",
       "   floor_mean  floor_max  floor_min  ceiling_mean  ceiling_max  ceiling_min  \n",
       "0    3.987864   8.562939   0.274574      3.924762     8.501885     0.331494  \n",
       "1    1.253103   1.897612   0.724299     44.785141    52.605437    36.880814  \n",
       "2    0.659138   1.318714   0.301673      1.368528     1.950322     0.878106  \n",
       "3    3.600083  15.041431   0.173307      4.065157    18.236935     0.253457  \n",
       "4    7.819446  15.399635   0.762948      8.216069    15.642853     0.909029  "
      ]
     },
     "execution_count": 55,
     "metadata": {},
     "output_type": "execute_result"
    }
   ],
   "source": [
    "df = pd.read_json(\"./data/data.json\")\n",
    "df.head(5)"
   ]
  },
  {
   "cell_type": "code",
   "execution_count": 6,
   "id": "afd44783-3393-4dbc-9973-0c177549f1a5",
   "metadata": {},
   "outputs": [
    {
     "data": {
      "text/plain": [
       "588"
      ]
     },
     "execution_count": 6,
     "metadata": {},
     "output_type": "execute_result"
    }
   ],
   "source": [
    "len(set(df['name']))"
   ]
  },
  {
   "cell_type": "code",
   "execution_count": 7,
   "id": "eed7dda7-723d-4d74-8987-a562dbf3a78b",
   "metadata": {},
   "outputs": [
    {
     "data": {
      "text/plain": [
       "(1347, 12)"
      ]
     },
     "execution_count": 7,
     "metadata": {},
     "output_type": "execute_result"
    }
   ],
   "source": [
    "df.shape"
   ]
  },
  {
   "cell_type": "code",
   "execution_count": 53,
   "id": "bc599252-f533-4b36-adeb-b31ee30794ad",
   "metadata": {},
   "outputs": [
    {
     "name": "stdout",
     "output_type": "stream",
     "text": [
      "mean \t 121.3010550187\n",
      "max \t 179.1654830868\n",
      "min \t 81.7644826566\n",
      "floor_mean \t 121.2440830169\n",
      "floor_max \t 177.961811244\n",
      "floor_min \t 81.7915047513\n",
      "ceiling_mean \t 157.3874736234\n",
      "ceiling_max \t 179.1654830868\n",
      "ceiling_min \t 144.4725332022\n"
     ]
    }
   ],
   "source": [
    "for c in df.columns[3:]:\n",
    "    print(c, '\\t', df[c].max())"
   ]
  },
  {
   "cell_type": "code",
   "execution_count": null,
   "id": "74654985-2675-4521-86d5-ed595a8cd84d",
   "metadata": {},
   "outputs": [],
   "source": []
  },
  {
   "cell_type": "code",
   "execution_count": null,
   "id": "3a0294cd-88df-4590-bb22-9e9451b6a5f5",
   "metadata": {},
   "outputs": [],
   "source": []
  },
  {
   "cell_type": "code",
   "execution_count": 68,
   "id": "15347e8a-8f2b-40f3-92bc-1b0775066578",
   "metadata": {},
   "outputs": [
    {
     "data": {
      "text/html": [
       "<div>\n",
       "<style scoped>\n",
       "    .dataframe tbody tr th:only-of-type {\n",
       "        vertical-align: middle;\n",
       "    }\n",
       "\n",
       "    .dataframe tbody tr th {\n",
       "        vertical-align: top;\n",
       "    }\n",
       "\n",
       "    .dataframe thead th {\n",
       "        text-align: right;\n",
       "    }\n",
       "</style>\n",
       "<table border=\"1\" class=\"dataframe\">\n",
       "  <thead>\n",
       "    <tr style=\"text-align: right;\">\n",
       "      <th></th>\n",
       "      <th>mean</th>\n",
       "      <th>max</th>\n",
       "      <th>min</th>\n",
       "      <th>floor_mean</th>\n",
       "      <th>floor_max</th>\n",
       "      <th>floor_min</th>\n",
       "      <th>ceiling_mean</th>\n",
       "      <th>ceiling_max</th>\n",
       "      <th>ceiling_min</th>\n",
       "    </tr>\n",
       "    <tr>\n",
       "      <th>rb_corners</th>\n",
       "      <th></th>\n",
       "      <th></th>\n",
       "      <th></th>\n",
       "      <th></th>\n",
       "      <th></th>\n",
       "      <th></th>\n",
       "      <th></th>\n",
       "      <th></th>\n",
       "      <th></th>\n",
       "    </tr>\n",
       "  </thead>\n",
       "  <tbody>\n",
       "    <tr>\n",
       "      <th>4</th>\n",
       "      <td>11.743625</td>\n",
       "      <td>22.276606</td>\n",
       "      <td>2.913603</td>\n",
       "      <td>9.856579</td>\n",
       "      <td>17.420663</td>\n",
       "      <td>3.155199</td>\n",
       "      <td>13.630671</td>\n",
       "      <td>21.668738</td>\n",
       "      <td>5.611747</td>\n",
       "    </tr>\n",
       "    <tr>\n",
       "      <th>6</th>\n",
       "      <td>19.771737</td>\n",
       "      <td>44.645496</td>\n",
       "      <td>2.839394</td>\n",
       "      <td>17.746855</td>\n",
       "      <td>37.646154</td>\n",
       "      <td>2.977508</td>\n",
       "      <td>21.796619</td>\n",
       "      <td>44.207992</td>\n",
       "      <td>4.703516</td>\n",
       "    </tr>\n",
       "    <tr>\n",
       "      <th>8</th>\n",
       "      <td>23.616022</td>\n",
       "      <td>51.669649</td>\n",
       "      <td>4.050655</td>\n",
       "      <td>23.588693</td>\n",
       "      <td>51.150189</td>\n",
       "      <td>4.089372</td>\n",
       "      <td>23.643351</td>\n",
       "      <td>50.383783</td>\n",
       "      <td>7.083278</td>\n",
       "    </tr>\n",
       "    <tr>\n",
       "      <th>10</th>\n",
       "      <td>13.202775</td>\n",
       "      <td>53.145464</td>\n",
       "      <td>0.195567</td>\n",
       "      <td>13.675920</td>\n",
       "      <td>53.145464</td>\n",
       "      <td>0.262791</td>\n",
       "      <td>12.729630</td>\n",
       "      <td>49.785400</td>\n",
       "      <td>0.195567</td>\n",
       "    </tr>\n",
       "  </tbody>\n",
       "</table>\n",
       "</div>"
      ],
      "text/plain": [
       "                 mean        max       min  floor_mean  floor_max  floor_min  \\\n",
       "rb_corners                                                                     \n",
       "4           11.743625  22.276606  2.913603    9.856579  17.420663   3.155199   \n",
       "6           19.771737  44.645496  2.839394   17.746855  37.646154   2.977508   \n",
       "8           23.616022  51.669649  4.050655   23.588693  51.150189   4.089372   \n",
       "10          13.202775  53.145464  0.195567   13.675920  53.145464   0.262791   \n",
       "\n",
       "            ceiling_mean  ceiling_max  ceiling_min  \n",
       "rb_corners                                          \n",
       "4              13.630671    21.668738     5.611747  \n",
       "6              21.796619    44.207992     4.703516  \n",
       "8              23.643351    50.383783     7.083278  \n",
       "10             12.729630    49.785400     0.195567  "
      ]
     },
     "execution_count": 68,
     "metadata": {},
     "output_type": "execute_result"
    }
   ],
   "source": [
    "df.iloc[:,2:].groupby(['rb_corners']).mean()"
   ]
  },
  {
   "cell_type": "code",
   "execution_count": 18,
   "id": "63a6e1fd-32fe-4d86-bf61-e76315a88e2d",
   "metadata": {},
   "outputs": [
    {
     "name": "stdout",
     "output_type": "stream",
     "text": [
      "0\n",
      "0\n",
      "0\n",
      "0\n",
      "0\n",
      "0\n",
      "0\n",
      "0\n",
      "0\n",
      "0\n",
      "0\n",
      "0\n"
     ]
    }
   ],
   "source": [
    "for c in df.columns:\n",
    "    print(sum(df[c].isna()))"
   ]
  },
  {
   "cell_type": "code",
   "execution_count": 20,
   "id": "41831011-6a11-4f29-856f-5d3d527deec8",
   "metadata": {},
   "outputs": [
    {
     "data": {
      "text/plain": [
       "True"
      ]
     },
     "execution_count": 20,
     "metadata": {},
     "output_type": "execute_result"
    }
   ],
   "source": [
    "all(df[\"gt_corners\"] == df[\"rb_corners\"])"
   ]
  },
  {
   "cell_type": "code",
   "execution_count": 27,
   "id": "c5cccd84-7a4e-40e2-b2c2-55d176ea3853",
   "metadata": {},
   "outputs": [
    {
     "name": "stdout",
     "output_type": "stream",
     "text": [
      "rb_corners\n",
      "4     1163\n",
      "6      162\n",
      "8       21\n",
      "10       1\n",
      "Name: count, dtype: int64\n"
     ]
    }
   ],
   "source": [
    "print(df['rb_corners'].value_counts())"
   ]
  },
  {
   "cell_type": "code",
   "execution_count": 28,
   "id": "d32d3e2f-3c46-4929-8f98-54a55310f119",
   "metadata": {},
   "outputs": [
    {
     "data": {
      "image/png": "[encoded data removed]",
      "text/plain": [
       "<Figure size 640x480 with 1 Axes>"
      ]
     },
     "metadata": {},
     "output_type": "display_data"
    }
   ],
   "source": [
    "df['gt_corners'].hist()\n",
    "pass"
   ]
  },
  {
   "cell_type": "code",
   "execution_count": 32,
   "id": "84e2d160-fa3d-4748-9fe0-ac9a0ce222af",
   "metadata": {},
   "outputs": [
    {
     "data": {
      "text/plain": [
       "name             object\n",
       "gt_corners        int64\n",
       "rb_corners        int64\n",
       "mean            float64\n",
       "max             float64\n",
       "min             float64\n",
       "floor_mean      float64\n",
       "floor_max       float64\n",
       "floor_min       float64\n",
       "ceiling_mean    float64\n",
       "ceiling_max     float64\n",
       "ceiling_min     float64\n",
       "dtype: object"
      ]
     },
     "execution_count": 32,
     "metadata": {},
     "output_type": "execute_result"
    }
   ],
   "source": [
    "df.dtypes"
   ]
  },
  {
   "cell_type": "code",
   "execution_count": 34,
   "id": "19015f5d-c07a-4938-a576-2859cb23a7d8",
   "metadata": {},
   "outputs": [
    {
     "data": {
      "text/plain": [
       "count    1347.000000\n",
       "mean       12.895320\n",
       "std        21.839948\n",
       "min         0.192973\n",
       "25%         0.658488\n",
       "50%         2.123456\n",
       "75%        14.810982\n",
       "max       121.301055\n",
       "Name: mean, dtype: float64"
      ]
     },
     "execution_count": 34,
     "metadata": {},
     "output_type": "execute_result"
    }
   ],
   "source": [
    "df['mean'].describe()"
   ]
  },
  {
   "cell_type": "code",
   "execution_count": null,
   "id": "870b7b10-194d-4a6c-8780-4d011754f450",
   "metadata": {},
   "outputs": [],
   "source": []
  },
  {
   "cell_type": "code",
   "execution_count": 43,
   "id": "48da4d35-ea24-4891-8e5d-d7e223bc6e47",
   "metadata": {},
   "outputs": [
    {
     "data": {
      "text/plain": [
       "<Axes: >"
      ]
     },
     "execution_count": 43,
     "metadata": {},
     "output_type": "execute_result"
    },
    {
     "data": {
      "image/png": "[encoded data removed]",
      "text/plain": [
       "<Figure size 640x480 with 1 Axes>"
      ]
     },
     "metadata": {},
     "output_type": "display_data"
    }
   ],
   "source": [
    "df['mean'].hist(bins=30)"
   ]
  },
  {
   "cell_type": "code",
   "execution_count": 46,
   "id": "77b8fe6f-d17a-4cfa-b9e3-95f35d44f636",
   "metadata": {},
   "outputs": [
    {
     "name": "stdout",
     "output_type": "stream",
     "text": [
      "vanity area\n",
      "10\n",
      "10\n",
      "121.3010550187\n",
      "179.1654830868\n",
      "81.7644826566\n",
      "121.2440830169\n",
      "177.961811244\n",
      "81.7915047513\n",
      "157.3874736234\n",
      "179.1654830868\n",
      "144.4725332022\n"
     ]
    }
   ],
   "source": []
  },
  {
   "cell_type": "code",
   "execution_count": 56,
   "id": "e60f465d-81f2-4252-aa8d-c92d40416969",
   "metadata": {},
   "outputs": [
    {
     "data": {
      "text/plain": [
       "<Axes: >"
      ]
     },
     "execution_count": 56,
     "metadata": {},
     "output_type": "execute_result"
    },
    {
     "data": {
      "image/png": "[encoded data removed]",
      "text/plain": [
       "<Figure size 640x480 with 1 Axes>"
      ]
     },
     "metadata": {},
     "output_type": "display_data"
    }
   ],
   "source": [
    "df[\"mean\"].plot()\n"
   ]
  },
  {
   "cell_type": "code",
   "execution_count": null,
   "id": "f85f5cf2-1d4b-41bf-b513-0b570cd5d2a0",
   "metadata": {},
   "outputs": [],
   "source": []
  }
 ],
 "metadata": {
  "kernelspec": {
   "display_name": "Python 3 (ipykernel)",
   "language": "python",
   "name": "python3"
  },
  "language_info": {
   "codemirror_mode": {
    "name": "ipython",
    "version": 3
   },
   "file_extension": ".py",
   "mimetype": "text/x-python",
   "name": "python",
   "nbconvert_exporter": "python",
   "pygments_lexer": "ipython3",
   "version": "3.10.2"
  }
 },
 "nbformat": 4,
 "nbformat_minor": 5
}
