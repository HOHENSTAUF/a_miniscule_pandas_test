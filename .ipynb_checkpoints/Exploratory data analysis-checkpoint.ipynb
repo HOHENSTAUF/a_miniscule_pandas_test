{
 "cells": [
  {
   "cell_type": "code",
   "execution_count": 7,
   "id": "b4128b2e-7faa-44ef-81a4-17f49c644ec8",
   "metadata": {},
   "outputs": [],
   "source": [
    "import numpy as np\n",
    "import pandas as pd #add\n",
    "import matplotlib.pyplot as plt\n",
    "import json\n"
   ]
  },
  {
   "cell_type": "code",
   "execution_count": 2,
   "id": "248cc510-9154-400b-9c3d-e0143d6a6d68",
   "metadata": {},
   "outputs": [
    {
     "name": "stdout",
     "output_type": "stream",
     "text": [
      "Requirement already satisfied: pandas in c:\\users\\admin\\labgit\\customprojects\\docusketch_test_task\\.venv\\lib\\site-packages (2.2.2)\n",
      "Requirement already satisfied: tzdata>=2022.7 in c:\\users\\admin\\labgit\\customprojects\\docusketch_test_task\\.venv\\lib\\site-packages (from pandas) (2024.1)\n",
      "Requirement already satisfied: python-dateutil>=2.8.2 in c:\\users\\admin\\labgit\\customprojects\\docusketch_test_task\\.venv\\lib\\site-packages (from pandas) (2.9.0.post0)\n",
      "Requirement already satisfied: pytz>=2020.1 in c:\\users\\admin\\labgit\\customprojects\\docusketch_test_task\\.venv\\lib\\site-packages (from pandas) (2024.1)\n",
      "Requirement already satisfied: numpy>=1.22.4 in c:\\users\\admin\\labgit\\customprojects\\docusketch_test_task\\.venv\\lib\\site-packages (from pandas) (2.0.0)\n",
      "Requirement already satisfied: six>=1.5 in c:\\users\\admin\\labgit\\customprojects\\docusketch_test_task\\.venv\\lib\\site-packages (from python-dateutil>=2.8.2->pandas) (1.16.0)\n"
     ]
    },
    {
     "name": "stderr",
     "output_type": "stream",
     "text": [
      "WARNING: You are using pip version 21.2.4; however, version 24.1.2 is available.\n",
      "You should consider upgrading via the 'C:\\Users\\Admin\\LabGit\\CustomProjects\\Docusketch_test_task\\.venv\\Scripts\\python.exe -m pip install --upgrade pip' command.\n"
     ]
    }
   ],
   "source": [
    "!pip install pandas\n"
   ]
  },
  {
   "cell_type": "code",
   "execution_count": null,
   "id": "d1664662-3ed0-45e5-980b-e55b0f972b35",
   "metadata": {},
   "outputs": [],
   "source": []
  }
 ],
 "metadata": {
  "kernelspec": {
   "display_name": "Python 3 (ipykernel)",
   "language": "python",
   "name": "python3"
  },
  "language_info": {
   "codemirror_mode": {
    "name": "ipython",
    "version": 3
   },
   "file_extension": ".py",
   "mimetype": "text/x-python",
   "name": "python",
   "nbconvert_exporter": "python",
   "pygments_lexer": "ipython3",
   "version": "3.10.2"
  }
 },
 "nbformat": 4,
 "nbformat_minor": 5
}
